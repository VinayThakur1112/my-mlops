{
 "cells": [
  {
   "cell_type": "markdown",
   "id": "1a4ca7d9",
   "metadata": {},
   "source": [
    "# Load Config"
   ]
  },
  {
   "cell_type": "code",
   "execution_count": 14,
   "id": "8f79be63",
   "metadata": {},
   "outputs": [],
   "source": [
    "import json\n",
    "import os"
   ]
  },
  {
   "cell_type": "code",
   "execution_count": null,
   "id": "c27ee9a3",
   "metadata": {},
   "outputs": [],
   "source": [
    "def load_app_config(config_file):\n",
    "    config_path = os.path.join(config_file)\n",
    "    if not os.path.exists(config_path):\n",
    "        raise FileNotFoundError(f\"Config file not found: {config_path}\")\n",
    "    with open(config_path, \"r\") as f:\n",
    "        return json.load(f)\n",
    "\n",
    "cfg = load_app_config(\"config_mymlops_dev.json\")"
   ]
  },
  {
   "cell_type": "markdown",
   "id": "2774b0fd",
   "metadata": {
    "vscode": {
     "languageId": "plaintext"
    }
   },
   "source": [
    "# Resource Group"
   ]
  },
  {
   "cell_type": "code",
   "execution_count": 17,
   "id": "807afd25",
   "metadata": {},
   "outputs": [],
   "source": [
    "from azure.identity import DefaultAzureCredential\n",
    "from azure.mgmt.resource import ResourceManagementClient"
   ]
  },
  {
   "cell_type": "code",
   "execution_count": 18,
   "id": "de40ba26",
   "metadata": {},
   "outputs": [],
   "source": [
    "rg_config = cfg.get(\"resource_group\", {})\n",
    "subscription_id = cfg.get(\"subscription_id\", {})\n",
    "rg_name = rg_config.get(\"name\")\n",
    "location = rg_config.get(\"location\", \"eastus\")"
   ]
  },
  {
   "cell_type": "code",
   "execution_count": 19,
   "id": "d8c7e7ae",
   "metadata": {},
   "outputs": [],
   "source": [
    "def get_resource_client(subscription_id):\n",
    "    \"\"\"Authenticate and return the ResourceManagementClient\"\"\"\n",
    "    credential = DefaultAzureCredential()\n",
    "    return ResourceManagementClient(credential, subscription_id)"
   ]
  },
  {
   "cell_type": "code",
   "execution_count": 20,
   "id": "57a299e2",
   "metadata": {},
   "outputs": [],
   "source": [
    "resource_client = get_resource_client(subscription_id)"
   ]
  },
  {
   "cell_type": "code",
   "execution_count": 21,
   "id": "bb50683f",
   "metadata": {},
   "outputs": [],
   "source": [
    "def validate_resource_group(resource_client, rg_name):\n",
    "    \"\"\"Check if a resource group exists\"\"\"\n",
    "    print(f\"🔍 Validating resource group '{rg_name}'...\")\n",
    "    exists = resource_client.resource_groups.check_existence(rg_name)\n",
    "    if exists:\n",
    "        print(f\"✅ Resource group '{rg_name}' exists.\")\n",
    "    else:\n",
    "        print(f\"❌ Resource group '{rg_name}' does not exist.\")\n",
    "    return exists"
   ]
  },
  {
   "cell_type": "markdown",
   "id": "588c356f",
   "metadata": {},
   "source": [
    "### Validating if resource group is available if not create one"
   ]
  },
  {
   "cell_type": "code",
   "execution_count": 22,
   "id": "75cee79c",
   "metadata": {},
   "outputs": [
    {
     "name": "stdout",
     "output_type": "stream",
     "text": [
      "🔍 Validating resource group 'rg-mymlops'...\n",
      "❌ Resource group 'rg-mymlops' does not exist.\n",
      "🚀 Creating resource group 'rg-mymlops' in 'eastus'...\n",
      "✅ Resource group 'rg-mymlops' created successfully.\n"
     ]
    }
   ],
   "source": [
    "if validate_resource_group(resource_client, rg_name):\n",
    "    print(f\"ℹ️ Resource group '{rg_name}' already exists.\")\n",
    "else:\n",
    "    print(f\"🚀 Creating resource group '{rg_name}' in '{location}'...\")\n",
    "    rg_result = resource_client.resource_groups.create_or_update(\n",
    "        rg_name, {\"location\": location}\n",
    "    )\n",
    "    print(f\"✅ Resource group '{rg_result.name}' created successfully.\")"
   ]
  },
  {
   "cell_type": "markdown",
   "id": "477266ba",
   "metadata": {},
   "source": [
    "# Virtual machine"
   ]
  },
  {
   "cell_type": "code",
   "execution_count": 23,
   "id": "f888cfdc",
   "metadata": {},
   "outputs": [],
   "source": [
    "from azure.identity import DefaultAzureCredential\n",
    "from azure.mgmt.resource import ResourceManagementClient\n",
    "from azure.mgmt.compute import ComputeManagementClient\n",
    "from azure.mgmt.network import NetworkManagementClient\n",
    "from azure.mgmt.compute.models import (\n",
    "    HardwareProfile, OSProfile, LinuxConfiguration,\n",
    "    SshConfiguration, SshPublicKey, NetworkInterfaceReference,\n",
    "    StorageProfile, ImageReference, OSDisk, DiskCreateOptionTypes\n",
    ")\n",
    "from azure.mgmt.network.models import (\n",
    "    NetworkSecurityGroup, SecurityRule, PublicIPAddress,\n",
    "    NetworkInterface, Subnet, VirtualNetwork, IPConfiguration\n",
    ")"
   ]
  },
  {
   "cell_type": "code",
   "execution_count": 24,
   "id": "3077b4b7",
   "metadata": {},
   "outputs": [],
   "source": [
    "subscription_id = cfg[\"subscription_id\"]\n",
    "resource_group = cfg[\"resource_group\"][\"name\"]\n",
    "location = cfg[\"resource_group\"][\"location\"]\n",
    "vm_name = cfg[\"vm\"][\"name\"]\n",
    "vm_size = cfg[\"vm\"][\"size\"]\n",
    "admin_username = cfg[\"vm\"][\"admin_username\"]\n",
    "ssh_key_path = os.path.expanduser(cfg[\"vm\"][\"ssh_public_key_path\"])\n",
    "virtual_network = cfg[\"vm\"][\"virtual_network\"]\n",
    "sub_network = cfg[\"vm\"][\"sub_network\"]\n",
    "network_security_grp = cfg[\"vm\"][\"network_security_grp\"]\n",
    "public_ip = cfg[\"vm\"][\"public_ip\"]\n",
    "network_interface = cfg[\"vm\"][\"network_interface\"]"
   ]
  },
  {
   "cell_type": "code",
   "execution_count": 25,
   "id": "3ec66acf",
   "metadata": {},
   "outputs": [
    {
     "name": "stdout",
     "output_type": "stream",
     "text": [
      "🚀 Starting VM creation: vm-mlops in eastus\n"
     ]
    }
   ],
   "source": [
    "print(f\"🚀 Starting VM creation: {vm_name} in {location}\")\n",
    "\n",
    "credential = DefaultAzureCredential()\n",
    "resource_client = ResourceManagementClient(credential, subscription_id)\n",
    "network_client = NetworkManagementClient(credential, subscription_id)\n",
    "compute_client = ComputeManagementClient(credential, subscription_id)"
   ]
  },
  {
   "cell_type": "code",
   "execution_count": 26,
   "id": "7c715e60",
   "metadata": {},
   "outputs": [
    {
     "name": "stdout",
     "output_type": "stream",
     "text": [
      "🔹 Ensuring resource group 'rg-mymlops' exists...\n"
     ]
    },
    {
     "data": {
      "text/plain": [
       "<azure.mgmt.resource.resources.v2025_04_01.models._models_py3.ResourceGroup at 0x1106a8910>"
      ]
     },
     "execution_count": 26,
     "metadata": {},
     "output_type": "execute_result"
    }
   ],
   "source": [
    "print(f\"🔹 Ensuring resource group '{resource_group}' exists...\")\n",
    "resource_client.resource_groups.create_or_update(\n",
    "    resource_group, {\"location\": location})"
   ]
  },
  {
   "cell_type": "code",
   "execution_count": null,
   "id": "a1d49eaf",
   "metadata": {},
   "outputs": [
    {
     "name": "stdout",
     "output_type": "stream",
     "text": [
      "🔹 Creating Virtual Network...\n"
     ]
    },
    {
     "ename": "HttpResponseError",
     "evalue": "(ResourceNotFound) The Resource 'Microsoft.Network/virtualNetworks/vnet-mlops' under resource group 'rg-mymlops' was not found. For more details please go to https://aka.ms/ARMResourceNotFoundFix\nCode: ResourceNotFound\nMessage: The Resource 'Microsoft.Network/virtualNetworks/vnet-mlops' under resource group 'rg-mymlops' was not found. For more details please go to https://aka.ms/ARMResourceNotFoundFix",
     "output_type": "error",
     "traceback": [
      "\u001b[31m---------------------------------------------------------------------------\u001b[39m",
      "\u001b[31mBadStatus\u001b[39m                                 Traceback (most recent call last)",
      "\u001b[36mFile \u001b[39m\u001b[32m/opt/anaconda3/envs/azure/lib/python3.11/site-packages/azure/core/polling/base_polling.py:805\u001b[39m, in \u001b[36mLROBasePolling.run\u001b[39m\u001b[34m(self)\u001b[39m\n\u001b[32m    804\u001b[39m \u001b[38;5;28;01mtry\u001b[39;00m:\n\u001b[32m--> \u001b[39m\u001b[32m805\u001b[39m     \u001b[38;5;28;43mself\u001b[39;49m\u001b[43m.\u001b[49m\u001b[43m_poll\u001b[49m\u001b[43m(\u001b[49m\u001b[43m)\u001b[49m\n\u001b[32m    807\u001b[39m \u001b[38;5;28;01mexcept\u001b[39;00m BadStatus \u001b[38;5;28;01mas\u001b[39;00m err:\n",
      "\u001b[36mFile \u001b[39m\u001b[32m/opt/anaconda3/envs/azure/lib/python3.11/site-packages/azure/core/polling/base_polling.py:842\u001b[39m, in \u001b[36mLROBasePolling._poll\u001b[39m\u001b[34m(self)\u001b[39m\n\u001b[32m    841\u001b[39m \u001b[38;5;28mself\u001b[39m._pipeline_response = \u001b[38;5;28mself\u001b[39m.request_status(final_get_url)\n\u001b[32m--> \u001b[39m\u001b[32m842\u001b[39m \u001b[43m_raise_if_bad_http_status_and_method\u001b[49m\u001b[43m(\u001b[49m\u001b[38;5;28;43mself\u001b[39;49m\u001b[43m.\u001b[49m\u001b[43m_pipeline_response\u001b[49m\u001b[43m.\u001b[49m\u001b[43mhttp_response\u001b[49m\u001b[43m)\u001b[49m\n",
      "\u001b[36mFile \u001b[39m\u001b[32m/opt/anaconda3/envs/azure/lib/python3.11/site-packages/azure/core/polling/base_polling.py:156\u001b[39m, in \u001b[36m_raise_if_bad_http_status_and_method\u001b[39m\u001b[34m(response)\u001b[39m\n\u001b[32m    155\u001b[39m     \u001b[38;5;28;01mreturn\u001b[39;00m\n\u001b[32m--> \u001b[39m\u001b[32m156\u001b[39m \u001b[38;5;28;01mraise\u001b[39;00m BadStatus(\u001b[33m\"\u001b[39m\u001b[33mInvalid return status \u001b[39m\u001b[38;5;132;01m{!r}\u001b[39;00m\u001b[33m for \u001b[39m\u001b[38;5;132;01m{!r}\u001b[39;00m\u001b[33m operation\u001b[39m\u001b[33m\"\u001b[39m.format(code, response.request.method))\n",
      "\u001b[31mBadStatus\u001b[39m: Invalid return status 404 for 'GET' operation",
      "\nThe above exception was the direct cause of the following exception:\n",
      "\u001b[31mHttpResponseError\u001b[39m                         Traceback (most recent call last)",
      "\u001b[36mCell\u001b[39m\u001b[36m \u001b[39m\u001b[32mIn[28]\u001b[39m\u001b[32m, line 9\u001b[39m\n\u001b[32m      1\u001b[39m \u001b[38;5;66;03m# Virtual Network\u001b[39;00m\n\u001b[32m      2\u001b[39m \u001b[38;5;28mprint\u001b[39m(\u001b[33m\"\u001b[39m\u001b[33m🔹 Creating Virtual Network...\u001b[39m\u001b[33m\"\u001b[39m)\n\u001b[32m      3\u001b[39m vnet = \u001b[43mnetwork_client\u001b[49m\u001b[43m.\u001b[49m\u001b[43mvirtual_networks\u001b[49m\u001b[43m.\u001b[49m\u001b[43mbegin_create_or_update\u001b[49m\u001b[43m(\u001b[49m\n\u001b[32m      4\u001b[39m \u001b[43m    \u001b[49m\u001b[43mresource_group\u001b[49m\u001b[43m,\u001b[49m\u001b[43m \u001b[49m\u001b[43mvirtual_network\u001b[49m\u001b[43m,\u001b[49m\n\u001b[32m      5\u001b[39m \u001b[43m    \u001b[49m\u001b[43m{\u001b[49m\n\u001b[32m      6\u001b[39m \u001b[43m        \u001b[49m\u001b[33;43m\"\u001b[39;49m\u001b[33;43mlocation\u001b[39;49m\u001b[33;43m\"\u001b[39;49m\u001b[43m:\u001b[49m\u001b[43m \u001b[49m\u001b[43mlocation\u001b[49m\u001b[43m,\u001b[49m\u001b[43m \u001b[49m\n\u001b[32m      7\u001b[39m \u001b[43m        \u001b[49m\u001b[33;43m\"\u001b[39;49m\u001b[33;43maddress_space\u001b[39;49m\u001b[33;43m\"\u001b[39;49m\u001b[43m:\u001b[49m\u001b[43m \u001b[49m\u001b[43m{\u001b[49m\u001b[33;43m\"\u001b[39;49m\u001b[33;43maddress_prefixes\u001b[39;49m\u001b[33;43m\"\u001b[39;49m\u001b[43m:\u001b[49m\u001b[43m \u001b[49m\u001b[43m[\u001b[49m\u001b[33;43m\"\u001b[39;49m\u001b[33;43m10.0.0.0/16\u001b[39;49m\u001b[33;43m\"\u001b[39;49m\u001b[43m]\u001b[49m\u001b[43m}\u001b[49m\n\u001b[32m      8\u001b[39m \u001b[43m    \u001b[49m\u001b[43m}\u001b[49m\u001b[43m,\u001b[49m\n\u001b[32m----> \u001b[39m\u001b[32m9\u001b[39m \u001b[43m)\u001b[49m\u001b[43m.\u001b[49m\u001b[43mresult\u001b[49m\u001b[43m(\u001b[49m\u001b[43m)\u001b[49m\n\u001b[32m     10\u001b[39m \u001b[38;5;28mprint\u001b[39m(\u001b[33mf\u001b[39m\u001b[33m\"\u001b[39m\u001b[33m✅ Virtual Network \u001b[39m\u001b[33m'\u001b[39m\u001b[38;5;132;01m{\u001b[39;00mrg_result.name\u001b[38;5;132;01m}\u001b[39;00m\u001b[33m'\u001b[39m\u001b[33m created successfully.\u001b[39m\u001b[33m\"\u001b[39m)\n",
      "\u001b[36mFile \u001b[39m\u001b[32m/opt/anaconda3/envs/azure/lib/python3.11/site-packages/azure/core/polling/_poller.py:326\u001b[39m, in \u001b[36mLROPoller.result\u001b[39m\u001b[34m(self, timeout)\u001b[39m\n\u001b[32m    317\u001b[39m \u001b[38;5;28;01mdef\u001b[39;00m\u001b[38;5;250m \u001b[39m\u001b[34mresult\u001b[39m(\u001b[38;5;28mself\u001b[39m, timeout: Optional[\u001b[38;5;28mfloat\u001b[39m] = \u001b[38;5;28;01mNone\u001b[39;00m) -> PollingReturnType_co:\n\u001b[32m    318\u001b[39m \u001b[38;5;250m    \u001b[39m\u001b[33;03m\"\"\"Return the result of the long running operation, or\u001b[39;00m\n\u001b[32m    319\u001b[39m \u001b[33;03m    the result available after the specified timeout.\u001b[39;00m\n\u001b[32m    320\u001b[39m \n\u001b[32m   (...)\u001b[39m\u001b[32m    324\u001b[39m \u001b[33;03m    :raises ~azure.core.exceptions.HttpResponseError: Server problem with the query.\u001b[39;00m\n\u001b[32m    325\u001b[39m \u001b[33;03m    \"\"\"\u001b[39;00m\n\u001b[32m--> \u001b[39m\u001b[32m326\u001b[39m     \u001b[38;5;28;43mself\u001b[39;49m\u001b[43m.\u001b[49m\u001b[43mwait\u001b[49m\u001b[43m(\u001b[49m\u001b[43mtimeout\u001b[49m\u001b[43m)\u001b[49m\n\u001b[32m    327\u001b[39m     \u001b[38;5;28;01mreturn\u001b[39;00m \u001b[38;5;28mself\u001b[39m._polling_method.resource()\n",
      "\u001b[36mFile \u001b[39m\u001b[32m/opt/anaconda3/envs/azure/lib/python3.11/site-packages/azure/core/tracing/decorator.py:119\u001b[39m, in \u001b[36mdistributed_trace.<locals>.decorator.<locals>.wrapper_use_tracer\u001b[39m\u001b[34m(*args, **kwargs)\u001b[39m\n\u001b[32m    117\u001b[39m \u001b[38;5;66;03m# If tracing is disabled globally and user didn't explicitly enable it, don't trace.\u001b[39;00m\n\u001b[32m    118\u001b[39m \u001b[38;5;28;01mif\u001b[39;00m user_enabled \u001b[38;5;129;01mis\u001b[39;00m \u001b[38;5;28;01mFalse\u001b[39;00m \u001b[38;5;129;01mor\u001b[39;00m (\u001b[38;5;129;01mnot\u001b[39;00m tracing_enabled \u001b[38;5;129;01mand\u001b[39;00m user_enabled \u001b[38;5;129;01mis\u001b[39;00m \u001b[38;5;28;01mNone\u001b[39;00m):\n\u001b[32m--> \u001b[39m\u001b[32m119\u001b[39m     \u001b[38;5;28;01mreturn\u001b[39;00m \u001b[43mfunc\u001b[49m\u001b[43m(\u001b[49m\u001b[43m*\u001b[49m\u001b[43margs\u001b[49m\u001b[43m,\u001b[49m\u001b[43m \u001b[49m\u001b[43m*\u001b[49m\u001b[43m*\u001b[49m\u001b[43mkwargs\u001b[49m\u001b[43m)\u001b[49m\n\u001b[32m    121\u001b[39m \u001b[38;5;66;03m# Merge span is parameter is set, but only if no explicit parent are passed\u001b[39;00m\n\u001b[32m    122\u001b[39m \u001b[38;5;28;01mif\u001b[39;00m merge_span \u001b[38;5;129;01mand\u001b[39;00m \u001b[38;5;129;01mnot\u001b[39;00m passed_in_parent:\n",
      "\u001b[36mFile \u001b[39m\u001b[32m/opt/anaconda3/envs/azure/lib/python3.11/site-packages/azure/core/polling/_poller.py:345\u001b[39m, in \u001b[36mLROPoller.wait\u001b[39m\u001b[34m(self, timeout)\u001b[39m\n\u001b[32m    341\u001b[39m \u001b[38;5;28mself\u001b[39m._thread.join(timeout=timeout)\n\u001b[32m    342\u001b[39m \u001b[38;5;28;01mtry\u001b[39;00m:\n\u001b[32m    343\u001b[39m     \u001b[38;5;66;03m# Let's handle possible None in forgiveness here\u001b[39;00m\n\u001b[32m    344\u001b[39m     \u001b[38;5;66;03m# https://github.com/python/mypy/issues/8165\u001b[39;00m\n\u001b[32m--> \u001b[39m\u001b[32m345\u001b[39m     \u001b[38;5;28;01mraise\u001b[39;00m \u001b[38;5;28mself\u001b[39m._exception  \u001b[38;5;66;03m# type: ignore\u001b[39;00m\n\u001b[32m    346\u001b[39m \u001b[38;5;28;01mexcept\u001b[39;00m \u001b[38;5;167;01mTypeError\u001b[39;00m:  \u001b[38;5;66;03m# Was None\u001b[39;00m\n\u001b[32m    347\u001b[39m     \u001b[38;5;28;01mpass\u001b[39;00m\n",
      "\u001b[36mFile \u001b[39m\u001b[32m/opt/anaconda3/envs/azure/lib/python3.11/site-packages/azure/core/polling/_poller.py:250\u001b[39m, in \u001b[36mLROPoller._start\u001b[39m\u001b[34m(self)\u001b[39m\n\u001b[32m    246\u001b[39m \u001b[38;5;250m\u001b[39m\u001b[33;03m\"\"\"Start the long running operation.\u001b[39;00m\n\u001b[32m    247\u001b[39m \u001b[33;03mOn completion, runs any callbacks.\u001b[39;00m\n\u001b[32m    248\u001b[39m \u001b[33;03m\"\"\"\u001b[39;00m\n\u001b[32m    249\u001b[39m \u001b[38;5;28;01mtry\u001b[39;00m:\n\u001b[32m--> \u001b[39m\u001b[32m250\u001b[39m     \u001b[38;5;28;43mself\u001b[39;49m\u001b[43m.\u001b[49m\u001b[43m_polling_method\u001b[49m\u001b[43m.\u001b[49m\u001b[43mrun\u001b[49m\u001b[43m(\u001b[49m\u001b[43m)\u001b[49m\n\u001b[32m    251\u001b[39m \u001b[38;5;28;01mexcept\u001b[39;00m AzureError \u001b[38;5;28;01mas\u001b[39;00m error:\n\u001b[32m    252\u001b[39m     \u001b[38;5;28;01mif\u001b[39;00m \u001b[38;5;129;01mnot\u001b[39;00m error.continuation_token:\n",
      "\u001b[36mFile \u001b[39m\u001b[32m/opt/anaconda3/envs/azure/lib/python3.11/site-packages/azure/core/polling/base_polling.py:809\u001b[39m, in \u001b[36mLROBasePolling.run\u001b[39m\u001b[34m(self)\u001b[39m\n\u001b[32m    807\u001b[39m \u001b[38;5;28;01mexcept\u001b[39;00m BadStatus \u001b[38;5;28;01mas\u001b[39;00m err:\n\u001b[32m    808\u001b[39m     \u001b[38;5;28mself\u001b[39m._status = \u001b[33m\"\u001b[39m\u001b[33mFailed\u001b[39m\u001b[33m\"\u001b[39m\n\u001b[32m--> \u001b[39m\u001b[32m809\u001b[39m     \u001b[38;5;28;01mraise\u001b[39;00m HttpResponseError(response=\u001b[38;5;28mself\u001b[39m._pipeline_response.http_response, error=err) \u001b[38;5;28;01mfrom\u001b[39;00m\u001b[38;5;250m \u001b[39m\u001b[34;01merr\u001b[39;00m\n\u001b[32m    811\u001b[39m \u001b[38;5;28;01mexcept\u001b[39;00m BadResponse \u001b[38;5;28;01mas\u001b[39;00m err:\n\u001b[32m    812\u001b[39m     \u001b[38;5;28mself\u001b[39m._status = \u001b[33m\"\u001b[39m\u001b[33mFailed\u001b[39m\u001b[33m\"\u001b[39m\n",
      "\u001b[31mHttpResponseError\u001b[39m: (ResourceNotFound) The Resource 'Microsoft.Network/virtualNetworks/vnet-mlops' under resource group 'rg-mymlops' was not found. For more details please go to https://aka.ms/ARMResourceNotFoundFix\nCode: ResourceNotFound\nMessage: The Resource 'Microsoft.Network/virtualNetworks/vnet-mlops' under resource group 'rg-mymlops' was not found. For more details please go to https://aka.ms/ARMResourceNotFoundFix"
     ]
    }
   ],
   "source": [
    "# Virtual Network\n",
    "print(\"🔹 Creating Virtual Network...\")\n",
    "vnet = network_client.virtual_networks.begin_create_or_update(\n",
    "    resource_group, virtual_network,\n",
    "    {\n",
    "        \"location\": location, \n",
    "        \"address_space\": {\"address_prefixes\": [\"10.0.0.0/16\"]}\n",
    "    },\n",
    ").result()\n",
    "print(f\"✅ Virtual Network '{vnet.name}' created successfully.\")"
   ]
  },
  {
   "cell_type": "code",
   "execution_count": 29,
   "id": "7fa955a8",
   "metadata": {},
   "outputs": [
    {
     "name": "stdout",
     "output_type": "stream",
     "text": [
      "🔹 Creating Subnet...\n",
      "✅ Subnet 'subnet-mlops' created successfully.\n"
     ]
    }
   ],
   "source": [
    "# Subnet\n",
    "print(\"🔹 Creating Subnet...\")\n",
    "subnet = network_client.subnets.begin_create_or_update(\n",
    "    resource_group, virtual_network, \n",
    "    sub_network, {\"address_prefix\": \"10.0.0.0/24\"},\n",
    ").result()\n",
    "print(f\"✅ Subnet '{subnet.name}' created successfully.\")"
   ]
  },
  {
   "cell_type": "code",
   "execution_count": 30,
   "id": "91ce831a",
   "metadata": {},
   "outputs": [
    {
     "name": "stdout",
     "output_type": "stream",
     "text": [
      "🔹 Creating NSG (allow SSH)...\n",
      "✅ NSG 'nsg-mlops' created successfully.\n"
     ]
    }
   ],
   "source": [
    "# NSG (SSH only)\n",
    "print(\"🔹 Creating NSG (allow SSH)...\")\n",
    "nsg = network_client.network_security_groups.begin_create_or_update(\n",
    "    resource_group, network_security_grp,\n",
    "    {\n",
    "        \"location\": location,\n",
    "        \"security_rules\": [\n",
    "            SecurityRule(\n",
    "                name=\"AllowSSH\", protocol=\"Tcp\", direction=\"Inbound\", \n",
    "                access=\"Allow\", priority=1000, source_address_prefix=\"*\", \n",
    "                destination_address_prefix=\"*\", source_port_range=\"*\", \n",
    "                destination_port_range=\"22\",\n",
    "            )\n",
    "        ],\n",
    "    },\n",
    ").result()\n",
    "print(f\"✅ NSG '{nsg.name}' created successfully.\")"
   ]
  },
  {
   "cell_type": "code",
   "execution_count": null,
   "id": "ea69bdc0",
   "metadata": {},
   "outputs": [
    {
     "name": "stdout",
     "output_type": "stream",
     "text": [
      "🔹 Creating Public IP...\n",
      "✅ NSG 'pip-mlops' created successfully.\n"
     ]
    }
   ],
   "source": [
    "# Public IP\n",
    "print(\"🔹 Creating Public IP...\")\n",
    "public_ip = network_client.public_ip_addresses.begin_create_or_update(\n",
    "    resource_group, public_ip, \n",
    "    {\"location\": location, \"public_ip_allocation_method\":\"Dynamic\"},\n",
    "    ).result()\n",
    "print(f\"✅ NSG '{public_ip.name}' created successfully.\")\n",
    "# print(f\"✅ NSG '{public_ip.ip_address}' created successfully.\")"
   ]
  },
  {
   "cell_type": "code",
   "execution_count": 35,
   "id": "ec75ed64",
   "metadata": {},
   "outputs": [
    {
     "name": "stderr",
     "output_type": "stream",
     "text": [
      "network_security_group is not a known attribute of class <class 'azure.mgmt.network.models._models_py3.IPConfiguration'> and will be ignored\n"
     ]
    },
    {
     "name": "stdout",
     "output_type": "stream",
     "text": [
      "🔹 Creating Network Interface...\n",
      "✅ NSG 'nic-mlops' created successfully.\n"
     ]
    }
   ],
   "source": [
    "# Network Interface\n",
    "print(\"🔹 Creating Network Interface...\")\n",
    "nic = network_client.network_interfaces.begin_create_or_update(\n",
    "    resource_group, network_interface,\n",
    "    {\n",
    "        \"location\": location,\n",
    "        \"ip_configurations\": [\n",
    "            IPConfiguration(\n",
    "                name=\"ipconfig1\",\n",
    "                subnet=Subnet(id=subnet.id),\n",
    "                public_ip_address=PublicIPAddress(id=public_ip.id),\n",
    "                network_security_group=NetworkSecurityGroup(id=nsg.id),\n",
    "            )\n",
    "        ],\n",
    "    },\n",
    ").result()\n",
    "print(f\"✅ NSG '{nic.name}' created successfully.\")"
   ]
  },
  {
   "cell_type": "code",
   "execution_count": 40,
   "id": "6068df29",
   "metadata": {},
   "outputs": [
    {
     "name": "stdout",
     "output_type": "stream",
     "text": [
      "🔹 Defining VM configuration...\n"
     ]
    }
   ],
   "source": [
    "# VM Configuration\n",
    "print(\"🔹 Defining VM configuration...\")\n",
    "with open(ssh_key_path, \"r\") as f:\n",
    "    ssh_key_data = f.read().strip()\n",
    "\n",
    "vm_parameters = {\n",
    "    \"location\": location,\n",
    "    \"hardware_profile\": HardwareProfile(vm_size=vm_size),\n",
    "    \"storage_profile\": StorageProfile(\n",
    "        image_reference=ImageReference(\n",
    "            publisher=\"Canonical\",\n",
    "            offer=\"UbuntuServer\",\n",
    "            sku=\"18.04-LTS\",\n",
    "            version=\"latest\",\n",
    "        ),\n",
    "        os_disk=OSDisk(\n",
    "            create_option=DiskCreateOptionTypes.from_image,\n",
    "            managed_disk={\"storage_account_type\": \"StandardSSD_LRS\"},\n",
    "        ),\n",
    "    ),\n",
    "    \"os_profile\": OSProfile(\n",
    "        computer_name=vm_name,\n",
    "        admin_username=admin_username,\n",
    "        linux_configuration=LinuxConfiguration(\n",
    "            disable_password_authentication=True,\n",
    "            ssh=SshConfiguration(\n",
    "                public_keys=[\n",
    "                    SshPublicKey(\n",
    "                        path=f\"/home/{admin_username}/.ssh/authorized_keys\",\n",
    "                        key_data=ssh_key_data,\n",
    "                    )\n",
    "                ]\n",
    "            ),\n",
    "        ),\n",
    "    ),\n",
    "    \"network_profile\": {\n",
    "        \"network_interfaces\": [NetworkInterfaceReference(id=nic.id)]},\n",
    "}"
   ]
  },
  {
   "cell_type": "code",
   "execution_count": 41,
   "id": "8d32117e",
   "metadata": {},
   "outputs": [
    {
     "name": "stdout",
     "output_type": "stream",
     "text": [
      "🚀 Creating VM 'vm-mlops' ... this may take a few minutes.\n"
     ]
    }
   ],
   "source": [
    "# Create the VM\n",
    "print(f\"🚀 Creating VM '{vm_name}' ... this may take a few minutes.\")\n",
    "creation = compute_client.virtual_machines.begin_create_or_update(\n",
    "    resource_group, vm_name, vm_parameters\n",
    ")\n",
    "vm_result = creation.result()"
   ]
  },
  {
   "cell_type": "code",
   "execution_count": null,
   "id": "d919d97b",
   "metadata": {},
   "outputs": [
    {
     "data": {
      "text/plain": [
       "'vm-mlops'"
      ]
     },
     "execution_count": 44,
     "metadata": {},
     "output_type": "execute_result"
    }
   ],
   "source": []
  },
  {
   "cell_type": "code",
   "execution_count": null,
   "id": "4bdc8be3",
   "metadata": {},
   "outputs": [],
   "source": []
  }
 ],
 "metadata": {
  "kernelspec": {
   "display_name": "azure",
   "language": "python",
   "name": "python3"
  },
  "language_info": {
   "codemirror_mode": {
    "name": "ipython",
    "version": 3
   },
   "file_extension": ".py",
   "mimetype": "text/x-python",
   "name": "python",
   "nbconvert_exporter": "python",
   "pygments_lexer": "ipython3",
   "version": "3.11.14"
  }
 },
 "nbformat": 4,
 "nbformat_minor": 5
}
