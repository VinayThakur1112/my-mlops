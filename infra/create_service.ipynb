{
 "cells": [
  {
   "cell_type": "markdown",
   "id": "1a4ca7d9",
   "metadata": {},
   "source": [
    "# Service Creation\n",
    "## Load Config"
   ]
  },
  {
   "cell_type": "code",
   "execution_count": 2,
   "id": "8f79be63",
   "metadata": {},
   "outputs": [],
   "source": [
    "import json\n",
    "import os"
   ]
  },
  {
   "cell_type": "code",
   "execution_count": 43,
   "id": "c27ee9a3",
   "metadata": {},
   "outputs": [],
   "source": [
    "def load_app_config(config_file):\n",
    "    config_path = os.path.join(config_file)\n",
    "    if not os.path.exists(config_path):\n",
    "        raise FileNotFoundError(f\"Config file not found: {config_path}\")\n",
    "    with open(config_path, \"r\") as f:\n",
    "        return json.load(f)\n",
    "\n",
    "cfg = load_app_config(\"config_dev.json\")"
   ]
  },
  {
   "cell_type": "markdown",
   "id": "2774b0fd",
   "metadata": {
    "vscode": {
     "languageId": "plaintext"
    }
   },
   "source": [
    "## Resource Group"
   ]
  },
  {
   "cell_type": "code",
   "execution_count": 5,
   "id": "807afd25",
   "metadata": {},
   "outputs": [],
   "source": [
    "from azure.identity import DefaultAzureCredential\n",
    "from azure.mgmt.resource import ResourceManagementClient"
   ]
  },
  {
   "cell_type": "code",
   "execution_count": 6,
   "id": "de40ba26",
   "metadata": {},
   "outputs": [],
   "source": [
    "rg_config = cfg.get(\"resource_group\", {})\n",
    "subscription_id = cfg.get(\"subscription_id\", {})\n",
    "rg_name = rg_config.get(\"name\")\n",
    "location = rg_config.get(\"location\", \"eastus\")"
   ]
  },
  {
   "cell_type": "code",
   "execution_count": 7,
   "id": "d8c7e7ae",
   "metadata": {},
   "outputs": [],
   "source": [
    "def get_resource_client(subscription_id):\n",
    "    \"\"\"Authenticate and return the ResourceManagementClient\"\"\"\n",
    "    credential = DefaultAzureCredential()\n",
    "    return ResourceManagementClient(credential, subscription_id)"
   ]
  },
  {
   "cell_type": "code",
   "execution_count": 8,
   "id": "57a299e2",
   "metadata": {},
   "outputs": [],
   "source": [
    "resource_client = get_resource_client(subscription_id)"
   ]
  },
  {
   "cell_type": "code",
   "execution_count": 9,
   "id": "bb50683f",
   "metadata": {},
   "outputs": [],
   "source": [
    "def validate_resource_group(resource_client, rg_name):\n",
    "    \"\"\"Check if a resource group exists\"\"\"\n",
    "    print(f\"🔍 Validating resource group '{rg_name}'...\")\n",
    "    exists = resource_client.resource_groups.check_existence(rg_name)\n",
    "    if exists:\n",
    "        print(f\"✅ Resource group '{rg_name}' exists.\")\n",
    "    else:\n",
    "        print(f\"❌ Resource group '{rg_name}' does not exist.\")\n",
    "    return exists"
   ]
  },
  {
   "cell_type": "markdown",
   "id": "588c356f",
   "metadata": {},
   "source": [
    "### Validating if resource group is available if not create one"
   ]
  },
  {
   "cell_type": "code",
   "execution_count": 10,
   "id": "75cee79c",
   "metadata": {},
   "outputs": [
    {
     "name": "stdout",
     "output_type": "stream",
     "text": [
      "🔍 Validating resource group 'rg-mymlops'...\n",
      "❌ Resource group 'rg-mymlops' does not exist.\n",
      "🚀 Creating resource group 'rg-mymlops' in 'eastus'...\n",
      "✅ Resource group 'rg-mymlops' created successfully.\n"
     ]
    }
   ],
   "source": [
    "if validate_resource_group(resource_client, rg_name):\n",
    "    print(f\"ℹ️ Resource group '{rg_name}' already exists.\")\n",
    "else:\n",
    "    print(f\"🚀 Creating resource group '{rg_name}' in '{location}'...\")\n",
    "    rg_result = resource_client.resource_groups.create_or_update(\n",
    "        rg_name, {\"location\": location}\n",
    "    )\n",
    "    print(f\"✅ Resource group '{rg_result.name}' created successfully.\")"
   ]
  },
  {
   "cell_type": "markdown",
   "id": "477266ba",
   "metadata": {},
   "source": [
    "## Virtual machine"
   ]
  },
  {
   "cell_type": "code",
   "execution_count": 11,
   "id": "f888cfdc",
   "metadata": {},
   "outputs": [],
   "source": [
    "from azure.identity import DefaultAzureCredential\n",
    "from azure.mgmt.resource import ResourceManagementClient\n",
    "from azure.mgmt.compute import ComputeManagementClient\n",
    "from azure.mgmt.network import NetworkManagementClient\n",
    "from azure.mgmt.compute.models import (\n",
    "    HardwareProfile, OSProfile, LinuxConfiguration,\n",
    "    SshConfiguration, SshPublicKey, NetworkInterfaceReference,\n",
    "    StorageProfile, ImageReference, OSDisk, DiskCreateOptionTypes\n",
    ")\n",
    "from azure.mgmt.network.models import (\n",
    "    NetworkSecurityGroup, SecurityRule, PublicIPAddress,\n",
    "    NetworkInterface, Subnet, VirtualNetwork, IPConfiguration\n",
    ")"
   ]
  },
  {
   "cell_type": "code",
   "execution_count": 12,
   "id": "3077b4b7",
   "metadata": {},
   "outputs": [],
   "source": [
    "subscription_id = cfg[\"subscription_id\"]\n",
    "resource_group = cfg[\"resource_group\"][\"name\"]\n",
    "location = cfg[\"resource_group\"][\"location\"]\n",
    "vm_name = cfg[\"vm\"][\"name\"]\n",
    "vm_size = cfg[\"vm\"][\"size\"]\n",
    "admin_username = cfg[\"vm\"][\"admin_username\"]\n",
    "ssh_key_path = os.path.expanduser(cfg[\"vm\"][\"ssh_public_key_path\"])\n",
    "virtual_network = cfg[\"vm\"][\"virtual_network\"]\n",
    "sub_network = cfg[\"vm\"][\"sub_network\"]\n",
    "network_security_grp = cfg[\"vm\"][\"network_security_grp\"]\n",
    "public_ip = cfg[\"vm\"][\"public_ip\"]\n",
    "network_interface = cfg[\"vm\"][\"network_interface\"]"
   ]
  },
  {
   "cell_type": "code",
   "execution_count": 13,
   "id": "3ec66acf",
   "metadata": {},
   "outputs": [
    {
     "name": "stdout",
     "output_type": "stream",
     "text": [
      "🚀 Starting VM creation: vm-mlops in eastus\n"
     ]
    }
   ],
   "source": [
    "print(f\"🚀 Starting VM creation: {vm_name} in {location}\")\n",
    "\n",
    "credential = DefaultAzureCredential()\n",
    "resource_client = ResourceManagementClient(credential, subscription_id)\n",
    "network_client = NetworkManagementClient(credential, subscription_id)\n",
    "compute_client = ComputeManagementClient(credential, subscription_id)"
   ]
  },
  {
   "cell_type": "code",
   "execution_count": 14,
   "id": "7c715e60",
   "metadata": {},
   "outputs": [
    {
     "name": "stdout",
     "output_type": "stream",
     "text": [
      "🔹 Ensuring resource group 'rg-mymlops' exists...\n"
     ]
    },
    {
     "data": {
      "text/plain": [
       "<azure.mgmt.resource.resources.v2025_04_01.models._models_py3.ResourceGroup at 0x114a2c090>"
      ]
     },
     "execution_count": 14,
     "metadata": {},
     "output_type": "execute_result"
    }
   ],
   "source": [
    "print(f\"🔹 Ensuring resource group '{resource_group}' exists...\")\n",
    "resource_client.resource_groups.create_or_update(\n",
    "    resource_group, {\"location\": location})"
   ]
  },
  {
   "cell_type": "code",
   "execution_count": 15,
   "id": "a1d49eaf",
   "metadata": {},
   "outputs": [
    {
     "name": "stdout",
     "output_type": "stream",
     "text": [
      "🔹 Creating Virtual Network...\n",
      "✅ Virtual Network 'vnet-mlops' created successfully.\n"
     ]
    }
   ],
   "source": [
    "# Virtual Network\n",
    "print(\"🔹 Creating Virtual Network...\")\n",
    "vnet = network_client.virtual_networks.begin_create_or_update(\n",
    "    resource_group, virtual_network,\n",
    "    {\n",
    "        \"location\": location, \n",
    "        \"address_space\": {\"address_prefixes\": [\"10.0.0.0/16\"]}\n",
    "    },\n",
    ").result()\n",
    "print(f\"✅ Virtual Network '{vnet.name}' created successfully.\")"
   ]
  },
  {
   "cell_type": "code",
   "execution_count": 16,
   "id": "7fa955a8",
   "metadata": {},
   "outputs": [
    {
     "name": "stdout",
     "output_type": "stream",
     "text": [
      "🔹 Creating Subnet...\n",
      "✅ Subnet 'subnet-mlops' created successfully.\n"
     ]
    }
   ],
   "source": [
    "# Subnet\n",
    "print(\"🔹 Creating Subnet...\")\n",
    "subnet = network_client.subnets.begin_create_or_update(\n",
    "    resource_group, virtual_network, \n",
    "    sub_network, {\"address_prefix\": \"10.0.0.0/24\"},\n",
    ").result()\n",
    "print(f\"✅ Subnet '{subnet.name}' created successfully.\")"
   ]
  },
  {
   "cell_type": "code",
   "execution_count": 17,
   "id": "91ce831a",
   "metadata": {},
   "outputs": [
    {
     "name": "stdout",
     "output_type": "stream",
     "text": [
      "🔹 Creating NSG (allow SSH)...\n",
      "✅ NSG 'nsg-mlops' created successfully.\n"
     ]
    }
   ],
   "source": [
    "# NSG (SSH only)\n",
    "print(\"🔹 Creating NSG (allow SSH)...\")\n",
    "nsg = network_client.network_security_groups.begin_create_or_update(\n",
    "    resource_group, network_security_grp,\n",
    "    {\n",
    "        \"location\": location,\n",
    "        \"security_rules\": [\n",
    "            SecurityRule(\n",
    "                name=\"AllowSSH\", protocol=\"Tcp\", direction=\"Inbound\", \n",
    "                access=\"Allow\", priority=1000, source_address_prefix=\"*\", \n",
    "                destination_address_prefix=\"*\", source_port_range=\"*\", \n",
    "                destination_port_range=\"22\",\n",
    "            )\n",
    "        ],\n",
    "    },\n",
    ").result()\n",
    "print(f\"✅ NSG '{nsg.name}' created successfully.\")"
   ]
  },
  {
   "cell_type": "code",
   "execution_count": 18,
   "id": "ea69bdc0",
   "metadata": {},
   "outputs": [
    {
     "name": "stdout",
     "output_type": "stream",
     "text": [
      "🔹 Creating Public IP...\n",
      "✅ NSG 'pip-mlops' created successfully.\n"
     ]
    }
   ],
   "source": [
    "# Public IP\n",
    "print(\"🔹 Creating Public IP...\")\n",
    "public_ip = network_client.public_ip_addresses.begin_create_or_update(\n",
    "    resource_group, public_ip, \n",
    "    {\"location\": location, \"public_ip_allocation_method\":\"Dynamic\"},\n",
    "    ).result()\n",
    "print(f\"✅ NSG '{public_ip.name}' created successfully.\")\n",
    "# print(f\"✅ NSG '{public_ip.ip_address}' created successfully.\")"
   ]
  },
  {
   "cell_type": "code",
   "execution_count": 19,
   "id": "ec75ed64",
   "metadata": {},
   "outputs": [
    {
     "name": "stderr",
     "output_type": "stream",
     "text": [
      "network_security_group is not a known attribute of class <class 'azure.mgmt.network.models._models_py3.IPConfiguration'> and will be ignored\n"
     ]
    },
    {
     "name": "stdout",
     "output_type": "stream",
     "text": [
      "🔹 Creating Network Interface...\n",
      "✅ NSG 'nic-mlops' created successfully.\n"
     ]
    }
   ],
   "source": [
    "# Network Interface\n",
    "print(\"🔹 Creating Network Interface...\")\n",
    "nic = network_client.network_interfaces.begin_create_or_update(\n",
    "    resource_group, network_interface,\n",
    "    {\n",
    "        \"location\": location,\n",
    "        \"ip_configurations\": [\n",
    "            IPConfiguration(\n",
    "                name=\"ipconfig1\",\n",
    "                subnet=Subnet(id=subnet.id),\n",
    "                public_ip_address=PublicIPAddress(id=public_ip.id),\n",
    "                network_security_group=NetworkSecurityGroup(id=nsg.id),\n",
    "            )\n",
    "        ],\n",
    "    },\n",
    ").result()\n",
    "print(f\"✅ NSG '{nic.name}' created successfully.\")"
   ]
  },
  {
   "cell_type": "code",
   "execution_count": 20,
   "id": "6068df29",
   "metadata": {},
   "outputs": [
    {
     "name": "stdout",
     "output_type": "stream",
     "text": [
      "🔹 Defining VM configuration...\n"
     ]
    }
   ],
   "source": [
    "# VM Configuration\n",
    "print(\"🔹 Defining VM configuration...\")\n",
    "with open(ssh_key_path, \"r\") as f:\n",
    "    ssh_key_data = f.read().strip()\n",
    "\n",
    "vm_parameters = {\n",
    "    \"location\": location,\n",
    "    \"hardware_profile\": HardwareProfile(vm_size=vm_size),\n",
    "    \"storage_profile\": StorageProfile(\n",
    "        image_reference=ImageReference(\n",
    "            publisher=\"Canonical\",\n",
    "            offer=\"UbuntuServer\",\n",
    "            sku=\"18.04-LTS\",\n",
    "            version=\"latest\",\n",
    "        ),\n",
    "        os_disk=OSDisk(\n",
    "            create_option=DiskCreateOptionTypes.from_image,\n",
    "            managed_disk={\"storage_account_type\": \"StandardSSD_LRS\"},\n",
    "        ),\n",
    "    ),\n",
    "    \"os_profile\": OSProfile(\n",
    "        computer_name=vm_name,\n",
    "        admin_username=admin_username,\n",
    "        linux_configuration=LinuxConfiguration(\n",
    "            disable_password_authentication=True,\n",
    "            ssh=SshConfiguration(\n",
    "                public_keys=[\n",
    "                    SshPublicKey(\n",
    "                        path=f\"/home/{admin_username}/.ssh/authorized_keys\",\n",
    "                        key_data=ssh_key_data,\n",
    "                    )\n",
    "                ]\n",
    "            ),\n",
    "        ),\n",
    "    ),\n",
    "    \"network_profile\": {\n",
    "        \"network_interfaces\": [NetworkInterfaceReference(id=nic.id)]},\n",
    "}"
   ]
  },
  {
   "cell_type": "code",
   "execution_count": 21,
   "id": "8d32117e",
   "metadata": {},
   "outputs": [
    {
     "name": "stdout",
     "output_type": "stream",
     "text": [
      "🚀 Creating VM 'vm-mlops' ... this may take a few minutes.\n"
     ]
    }
   ],
   "source": [
    "# Create the VM\n",
    "print(f\"🚀 Creating VM '{vm_name}' ... this may take a few minutes.\")\n",
    "creation = compute_client.virtual_machines.begin_create_or_update(\n",
    "    resource_group, vm_name, vm_parameters\n",
    ")\n",
    "vm_result = creation.result()"
   ]
  },
  {
   "cell_type": "code",
   "execution_count": 24,
   "id": "d919d97b",
   "metadata": {},
   "outputs": [
    {
     "name": "stdout",
     "output_type": "stream",
     "text": [
      "\n",
      "🧾 VM Details:\n",
      "Name: vm-mlops\n",
      "Location: eastus\n",
      "Size: Standard_B1ms\n",
      "OS Disk: vm-mlops_OsDisk_1_f826069cf2fb491b816883b5d23e0258\n",
      "Image: UbuntuServer 18.04-LTS\n",
      "Provisioning State: Succeeded\n"
     ]
    }
   ],
   "source": [
    "# Fetch VM details\n",
    "vm_details = compute_client.virtual_machines.get(resource_group, vm_name)\n",
    "# Print summary\n",
    "print(\"\\n🧾 VM Details:\")\n",
    "print(f\"Name: {vm_details.name}\")\n",
    "print(f\"Location: {vm_details.location}\")\n",
    "print(f\"Size: {vm_details.hardware_profile.vm_size}\")\n",
    "print(f\"OS Disk: {vm_details.storage_profile.os_disk.name}\")\n",
    "print(f\"Image: {vm_details.storage_profile.image_reference.offer} {vm_details.storage_profile.image_reference.sku}\")\n",
    "print(f\"Provisioning State: {vm_details.provisioning_state}\")"
   ]
  },
  {
   "cell_type": "code",
   "execution_count": null,
   "id": "4bdc8be3",
   "metadata": {},
   "outputs": [
    {
     "name": "stdout",
     "output_type": "stream",
     "text": [
      "🔒 NSG attached to NIC 'nic-mlops': nsg-mlops\n",
      "Location: eastus\n",
      "Security Rules:\n",
      "  - AllowSSH: Inbound Allow Tcp 22\n",
      "No NSG attached to Subnet 'subnet-mlops'.\n"
     ]
    }
   ],
   "source": [
    "# Get NIC attached to the VM\n",
    "nic_id = vm_details.network_profile.network_interfaces[0].id.split('/')[-1]\n",
    "\n",
    "# Fetch NIC details\n",
    "nic = network_client.network_interfaces.get(resource_group, nic_id)\n",
    "\n",
    "# Check if NSG is attached directly to NIC\n",
    "if nic.network_security_group:\n",
    "    nsg_id = nic.network_security_group.id.split('/')[-1]\n",
    "    nsg = network_client.network_security_groups.get(resource_group, nsg_id)\n",
    "    print(f\"🔒 NSG attached to NIC '{nic.name}': {nsg.name}\")\n",
    "    print(f\"Location: {nsg.location}\")\n",
    "    print(f\"Security Rules:\")\n",
    "    for rule in nsg.security_rules:\n",
    "        print(f\"  - {rule.name}: {rule.direction} {rule.access} {rule.protocol} {rule.destination_port_range}\")\n",
    "else:\n",
    "    print(f\"No NSG attached directly to NIC '{nic.name}'.\")"
   ]
  },
  {
   "cell_type": "code",
   "execution_count": 28,
   "id": "bb9aae91",
   "metadata": {},
   "outputs": [],
   "source": [
    "# Attach NSG to NIC\n",
    "nic.network_security_group = nsg"
   ]
  },
  {
   "cell_type": "code",
   "execution_count": 29,
   "id": "446b9a99",
   "metadata": {},
   "outputs": [],
   "source": [
    "# Update NIC with the NSG association\n",
    "update_nic = network_client.network_interfaces.begin_create_or_update(\n",
    "    resource_group,\n",
    "    nic_id,\n",
    "    nic\n",
    ")"
   ]
  },
  {
   "cell_type": "code",
   "execution_count": 31,
   "id": "0e345350",
   "metadata": {},
   "outputs": [
    {
     "name": "stdout",
     "output_type": "stream",
     "text": [
      "✅ NSG 'nsg-mlops' successfully attached to NIC 'nic-mlops'.\n"
     ]
    }
   ],
   "source": [
    "result = update_nic.result()\n",
    "print(f\"✅ NSG '{nsg.name}' successfully attached to NIC '{nic_id}'.\")"
   ]
  },
  {
   "cell_type": "code",
   "execution_count": 33,
   "id": "6a463472",
   "metadata": {},
   "outputs": [
    {
     "name": "stdout",
     "output_type": "stream",
     "text": [
      "🔒 NSG attached to NIC 'nic-mlops': nsg-mlops\n",
      "Location: eastus\n",
      "Security Rules:\n",
      "  - AllowSSH: Inbound Allow Tcp 22\n"
     ]
    }
   ],
   "source": [
    "if nic.network_security_group:\n",
    "    nsg_id = nic.network_security_group.id.split('/')[-1]\n",
    "    nsg = network_client.network_security_groups.get(resource_group, nsg_id)\n",
    "    print(f\"🔒 NSG attached to NIC '{nic.name}': {nsg.name}\")\n",
    "    print(f\"Location: {nsg.location}\")\n",
    "    print(f\"Security Rules:\")\n",
    "    for rule in nsg.security_rules:\n",
    "        print(f\"  - {rule.name}: {rule.direction} {rule.access} {rule.protocol} {rule.destination_port_range}\")\n",
    "else:\n",
    "    print(f\"No NSG attached directly to NIC '{nic.name}'.\")"
   ]
  },
  {
   "cell_type": "markdown",
   "id": "45107d4d",
   "metadata": {},
   "source": [
    "## Blob Storage"
   ]
  },
  {
   "cell_type": "code",
   "execution_count": 35,
   "id": "5af06bd2",
   "metadata": {},
   "outputs": [],
   "source": [
    "from azure.mgmt.storage import StorageManagementClient"
   ]
  },
  {
   "cell_type": "code",
   "execution_count": 36,
   "id": "3bede440",
   "metadata": {},
   "outputs": [],
   "source": [
    "credential = DefaultAzureCredential()\n",
    "storage_client = StorageManagementClient(credential, subscription_id)"
   ]
  },
  {
   "cell_type": "code",
   "execution_count": 37,
   "id": "e611a4c6",
   "metadata": {},
   "outputs": [],
   "source": [
    "credential = DefaultAzureCredential()\n",
    "storage_client = StorageManagementClient(credential, subscription_id)"
   ]
  },
  {
   "cell_type": "code",
   "execution_count": 44,
   "id": "bc8721ad",
   "metadata": {},
   "outputs": [],
   "source": [
    "storage_account_name = cfg[\"storage\"][\"storage_account\"]\n",
    "container = cfg[\"storage\"][\"containers\"]"
   ]
  },
  {
   "cell_type": "code",
   "execution_count": 45,
   "id": "ab61bd5e",
   "metadata": {},
   "outputs": [
    {
     "name": "stdout",
     "output_type": "stream",
     "text": [
      "✅ Storage account 'storagemymlops' created.\n"
     ]
    }
   ],
   "source": [
    "# Create Blob Storage with hierarchical namespace (Data Lake Gen2)\n",
    "storage_async_op = storage_client.storage_accounts.begin_create(\n",
    "    resource_group,\n",
    "    storage_account_name,\n",
    "    {\n",
    "        \"location\": location,\n",
    "        \"kind\": \"StorageV2\",\n",
    "        \"sku\": {\"name\": \"Standard_LRS\"},\n",
    "        \"is_hns_enabled\": True  # Hierarchical namespace enabled\n",
    "    },\n",
    ")\n",
    "storage_account = storage_async_op.result()\n",
    "print(f\"✅ Storage account '{storage_account.name}' created.\")"
   ]
  },
  {
   "cell_type": "code",
   "execution_count": 46,
   "id": "f347face",
   "metadata": {},
   "outputs": [
    {
     "name": "stdout",
     "output_type": "stream",
     "text": [
      "🔑 Retrieving access key...\n"
     ]
    }
   ],
   "source": [
    "# ==== Get Storage Account Key ====\n",
    "print(\"🔑 Retrieving access key...\")\n",
    "keys = storage_client.storage_accounts.list_keys(resource_group, storage_account_name)\n",
    "storage_key = keys.keys[0].value"
   ]
  },
  {
   "cell_type": "code",
   "execution_count": null,
   "id": "24eb5f34",
   "metadata": {},
   "outputs": [
    {
     "data": {
      "text/plain": [
       "'/Users/vinay/Projects/token'"
      ]
     },
     "execution_count": 50,
     "metadata": {},
     "output_type": "execute_result"
    }
   ],
   "source": []
  },
  {
   "cell_type": "code",
   "execution_count": 58,
   "id": "4ebe15cd",
   "metadata": {},
   "outputs": [
    {
     "name": "stdout",
     "output_type": "stream",
     "text": [
      "/Users/vinay/Projects/my-mlops/tokens/storagemymlops\n",
      "🗝️ Storage account key saved to: /Users/vinay/Projects/my-mlops/tokens/storagemymlops\n"
     ]
    }
   ],
   "source": [
    "# ==== Save Key to File ====\n",
    "key_file_path = f\"/Users/vinay/Projects/my-mlops/tokens/{storage_account_name}\"\n",
    "print(key_file_path)\n",
    "with open(key_file_path, \"w\") as key_file:\n",
    "    key_file.write(storage_key)\n",
    "print(f\"🗝️ Storage account key saved to: {key_file_path}\")"
   ]
  },
  {
   "cell_type": "code",
   "execution_count": null,
   "id": "31e3b73d",
   "metadata": {},
   "outputs": [],
   "source": []
  }
 ],
 "metadata": {
  "kernelspec": {
   "display_name": "mlops",
   "language": "python",
   "name": "python3"
  },
  "language_info": {
   "codemirror_mode": {
    "name": "ipython",
    "version": 3
   },
   "file_extension": ".py",
   "mimetype": "text/x-python",
   "name": "python",
   "nbconvert_exporter": "python",
   "pygments_lexer": "ipython3",
   "version": "3.11.14"
  }
 },
 "nbformat": 4,
 "nbformat_minor": 5
}
