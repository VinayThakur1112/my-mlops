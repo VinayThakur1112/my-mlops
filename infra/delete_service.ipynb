{
 "cells": [
  {
   "cell_type": "markdown",
   "id": "84417f3c",
   "metadata": {},
   "source": [
    "# Load Config"
   ]
  },
  {
   "cell_type": "code",
   "execution_count": 1,
   "id": "8a134f4e",
   "metadata": {},
   "outputs": [],
   "source": [
    "import json\n",
    "import os"
   ]
  },
  {
   "cell_type": "code",
   "execution_count": null,
   "id": "cf519825",
   "metadata": {},
   "outputs": [],
   "source": [
    "def load_app_config(config_file):\n",
    "    config_path = os.path.join(config_file)\n",
    "    if not os.path.exists(config_path):\n",
    "        raise FileNotFoundError(f\"Config file not found: {config_path}\")\n",
    "    with open(config_path, \"r\") as f:\n",
    "        return json.load(f)\n",
    "\n",
    "cfg = load_app_config(\"config_mymlops_dev.json\")"
   ]
  },
  {
   "cell_type": "markdown",
   "id": "48eb5b80",
   "metadata": {},
   "source": [
    "# Virtual Machine"
   ]
  },
  {
   "cell_type": "code",
   "execution_count": 8,
   "id": "65c79de6",
   "metadata": {},
   "outputs": [],
   "source": [
    "from azure.identity import DefaultAzureCredential\n",
    "from azure.mgmt.resource import ResourceManagementClient\n",
    "from azure.mgmt.compute import ComputeManagementClient\n",
    "from azure.mgmt.network import NetworkManagementClient\n",
    "from azure.mgmt.compute.models import (\n",
    "    HardwareProfile, OSProfile, LinuxConfiguration,\n",
    "    SshConfiguration, SshPublicKey, NetworkInterfaceReference,\n",
    "    StorageProfile, ImageReference, OSDisk, DiskCreateOptionTypes\n",
    ")\n",
    "from azure.mgmt.network.models import (\n",
    "    NetworkSecurityGroup, SecurityRule, PublicIPAddress,\n",
    "    NetworkInterface, Subnet, VirtualNetwork, IPConfiguration\n",
    ")"
   ]
  },
  {
   "cell_type": "code",
   "execution_count": null,
   "id": "c72886ce",
   "metadata": {},
   "outputs": [],
   "source": [
    "subscription_id = cfg[\"subscription_id\"]\n",
    "resource_group = cfg[\"resource_group\"][\"name\"]\n",
    "location = cfg[\"resource_group\"][\"location\"]\n",
    "vm_name = cfg[\"vm\"][\"name\"]\n",
    "vm_size = cfg[\"vm\"][\"size\"]\n",
    "admin_username = cfg[\"vm\"][\"admin_username\"]\n",
    "ssh_key_path = os.path.expanduser(cfg[\"vm\"][\"ssh_public_key_path\"])\n",
    "virtual_network = cfg[\"vm\"][\"virtual_network\"]\n",
    "sub_network = cfg[\"vm\"][\"sub_network\"]\n",
    "network_security_grp = cfg[\"vm\"][\"network_security_grp\"]\n",
    "public_ip = cfg[\"vm\"][\"public_ip\"]\n",
    "network_interface = cfg[\"vm\"][\"network_interface\"]"
   ]
  },
  {
   "cell_type": "code",
   "execution_count": null,
   "id": "328fc0bd",
   "metadata": {},
   "outputs": [],
   "source": [
    "# ---------------------------------------------------------------------\n",
    "# Rollback Helper\n",
    "# ---------------------------------------------------------------------\n",
    "def rollback_resources(resource_client, network_client, compute_client, rg_name, \n",
    "                       created_resources):\n",
    "    \n",
    "    for rtype, name in reversed(created_resources):\n",
    "        try:\n",
    "            print(f\"🗑️  Deleting {rtype}: {name} ...\")\n",
    "            if rtype == \"vm\":\n",
    "                compute_client.virtual_machines.begin_delete(rg_name, name).result()\n",
    "            elif rtype == \"nic\":\n",
    "                network_client.network_interfaces.begin_delete(rg_name, name).result()\n",
    "            elif rtype == \"public_ip\":\n",
    "                network_client.public_ip_addresses.begin_delete(rg_name, name).result()\n",
    "            elif rtype == \"nsg\":\n",
    "                network_client.network_security_groups.begin_delete(rg_name, name).result()\n",
    "            elif rtype == \"subnet\":\n",
    "                # Subnet gets deleted with VNet, skip explicit delete\n",
    "                continue\n",
    "            elif rtype == \"vnet\":\n",
    "                network_client.virtual_networks.begin_delete(rg_name, name).result()\n",
    "        except Exception as ex:\n",
    "            print(f\"⚠️  Failed to delete {rtype} {name}: {ex}\")\n",
    "    print(\"✅ Rollback complete.\")"
   ]
  },
  {
   "cell_type": "code",
   "execution_count": null,
   "id": "9059b37c",
   "metadata": {},
   "outputs": [],
   "source": [
    "# ---------------------------------------------------------------------\n",
    "# Function 2: STOP VM (graceful shutdown)\n",
    "# ---------------------------------------------------------------------\n",
    "def stop_vm(cfg):\n",
    "    subscription_id = cfg[\"azure\"][\"subscription_id\"]\n",
    "    resource_group = cfg[\"resource_group\"][\"name\"]\n",
    "    vm_name = cfg[\"vm\"][\"name\"]\n",
    "\n",
    "    credential = DefaultAzureCredential()\n",
    "    compute_client = ComputeManagementClient(credential, subscription_id)\n",
    "\n",
    "    print(f\"🛑 Stopping VM '{vm_name}'...\")\n",
    "    async_stop = compute_client.virtual_machines.begin_power_off(resource_group, vm_name)\n",
    "    async_stop.result()\n",
    "    print(f\"✅ VM '{vm_name}' stopped successfully.\")\n",
    "\n",
    "\n",
    "# ---------------------------------------------------------------------\n",
    "# Function 3: DEALLOCATE VM (stop billing)\n",
    "# ---------------------------------------------------------------------\n",
    "def deallocate_vm(cfg):\n",
    "    \n",
    "    subscription_id = cfg[\"azure\"][\"subscription_id\"]\n",
    "    resource_group = cfg[\"resource_group\"][\"name\"]\n",
    "    vm_name = cfg[\"vm\"][\"name\"]\n",
    "\n",
    "    credential = DefaultAzureCredential()\n",
    "    compute_client = ComputeManagementClient(credential, subscription_id)\n",
    "\n",
    "    print(f\"💤 Deallocating VM '{vm_name}' (releases compute)...\")\n",
    "    async_deallocate = compute_client.virtual_machines.begin_deallocate(\n",
    "        resource_group, vm_name)\n",
    "    \n",
    "    async_deallocate.result()\n",
    "    print(f\"✅ VM '{vm_name}' deallocated successfully (no compute cost).\")"
   ]
  },
  {
   "cell_type": "markdown",
   "id": "e17de7e4",
   "metadata": {},
   "source": [
    "# Resource Group"
   ]
  },
  {
   "cell_type": "code",
   "execution_count": 3,
   "id": "130e8899",
   "metadata": {},
   "outputs": [],
   "source": [
    "from azure.identity import DefaultAzureCredential\n",
    "from azure.mgmt.resource import ResourceManagementClient"
   ]
  },
  {
   "cell_type": "code",
   "execution_count": 4,
   "id": "24cdbe7f",
   "metadata": {},
   "outputs": [],
   "source": [
    "rg_config = cfg.get(\"resource_group\", {})\n",
    "subscription_id = cfg.get(\"subscription_id\", {})\n",
    "rg_name = rg_config.get(\"name\")\n",
    "location = rg_config.get(\"location\", \"eastus\")"
   ]
  },
  {
   "cell_type": "code",
   "execution_count": 5,
   "id": "d4251948",
   "metadata": {},
   "outputs": [],
   "source": [
    "def get_resource_client(subscription_id):\n",
    "    \"\"\"Authenticate and return the ResourceManagementClient\"\"\"\n",
    "    credential = DefaultAzureCredential()\n",
    "    return ResourceManagementClient(credential, subscription_id)"
   ]
  },
  {
   "cell_type": "code",
   "execution_count": 6,
   "id": "3f20954f",
   "metadata": {},
   "outputs": [],
   "source": [
    "resource_client = get_resource_client(subscription_id)"
   ]
  },
  {
   "cell_type": "code",
   "execution_count": 7,
   "id": "70b46551",
   "metadata": {},
   "outputs": [],
   "source": [
    "def validate_resource_group(resource_client, rg_name):\n",
    "    \"\"\"Check if a resource group exists\"\"\"\n",
    "    print(f\"🔍 Validating resource group '{rg_name}'...\")\n",
    "    exists = resource_client.resource_groups.check_existence(rg_name)\n",
    "    if exists:\n",
    "        print(f\"✅ Resource group '{rg_name}' exists.\")\n",
    "    else:\n",
    "        print(f\"❌ Resource group '{rg_name}' does not exist.\")\n",
    "    return exists"
   ]
  },
  {
   "cell_type": "markdown",
   "id": "914dc621",
   "metadata": {},
   "source": [
    "### Deleting Resource group if available"
   ]
  },
  {
   "cell_type": "code",
   "execution_count": null,
   "id": "6fe8f8c4",
   "metadata": {},
   "outputs": [],
   "source": [
    "if validate_resource_group(resource_client, rg_name):\n",
    "    print(f\"🧹 Deleting resource group '{rg_name}'...\")\n",
    "    delete_poller = resource_client.resource_groups.begin_delete(rg_name)\n",
    "    delete_poller.wait()\n",
    "    print(f\"✅ Resource group '{rg_name}' deleted successfully.\")\n",
    "else:\n",
    "    print(f\"⚠️ Resource group '{rg_name}' does not exist. Nothing to delete.\")"
   ]
  },
  {
   "cell_type": "code",
   "execution_count": null,
   "id": "c9c3aa1b",
   "metadata": {},
   "outputs": [],
   "source": []
  }
 ],
 "metadata": {
  "kernelspec": {
   "display_name": "azure",
   "language": "python",
   "name": "python3"
  },
  "language_info": {
   "codemirror_mode": {
    "name": "ipython",
    "version": 3
   },
   "file_extension": ".py",
   "mimetype": "text/x-python",
   "name": "python",
   "nbconvert_exporter": "python",
   "pygments_lexer": "ipython3",
   "version": "3.11.14"
  }
 },
 "nbformat": 4,
 "nbformat_minor": 5
}
